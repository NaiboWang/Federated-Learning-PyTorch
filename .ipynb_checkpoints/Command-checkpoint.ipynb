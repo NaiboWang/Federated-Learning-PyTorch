{
 "cells": [
  {
   "cell_type": "code",
   "execution_count": 1,
   "metadata": {},
   "outputs": [],
   "source": [
    "from tensorboardX import SummaryWriter"
   ]
  },
  {
   "cell_type": "code",
   "execution_count": 2,
   "metadata": {},
   "outputs": [],
   "source": [
    "import torchvision"
   ]
  },
  {
   "cell_type": "code",
   "execution_count": 3,
   "metadata": {},
   "outputs": [],
   "source": [
    "import matplotlib"
   ]
  },
  {
   "cell_type": "code",
   "execution_count": 4,
   "metadata": {},
   "outputs": [
    {
     "data": {
      "text/plain": [
       "True"
      ]
     },
     "execution_count": 4,
     "metadata": {},
     "output_type": "execute_result"
    }
   ],
   "source": [
    "import torch\n",
    "torch.cuda.is_available()"
   ]
  },
  {
   "cell_type": "code",
   "execution_count": 5,
   "metadata": {},
   "outputs": [
    {
     "data": {
      "text/plain": [
       "1"
      ]
     },
     "execution_count": 5,
     "metadata": {},
     "output_type": "execute_result"
    }
   ],
   "source": [
    "torch.cuda.device_count()"
   ]
  },
  {
   "cell_type": "code",
   "execution_count": 6,
   "metadata": {},
   "outputs": [
    {
     "data": {
      "text/plain": [
       "0"
      ]
     },
     "execution_count": 6,
     "metadata": {},
     "output_type": "execute_result"
    }
   ],
   "source": [
    "torch.cuda.current_device()"
   ]
  },
  {
   "cell_type": "code",
   "execution_count": 7,
   "metadata": {},
   "outputs": [
    {
     "data": {
      "text/plain": [
       "'GeForce RTX 2080 Super with Max-Q Design'"
      ]
     },
     "execution_count": 7,
     "metadata": {},
     "output_type": "execute_result"
    }
   ],
   "source": [
    "torch.cuda.get_device_name(0)"
   ]
  },
  {
   "cell_type": "code",
   "execution_count": 8,
   "metadata": {},
   "outputs": [],
   "source": [
    "import numpy as np"
   ]
  },
  {
   "cell_type": "code",
   "execution_count": 11,
   "metadata": {},
   "outputs": [
    {
     "data": {
      "text/plain": [
       "array([[1, 2, 3],\n",
       "       [4, 5, 6]])"
      ]
     },
     "execution_count": 11,
     "metadata": {},
     "output_type": "execute_result"
    }
   ],
   "source": [
    "metaMatrix = np.array([[1,2,3],[4,5,6]])\n",
    "metaMatrix"
   ]
  },
  {
   "cell_type": "code",
   "execution_count": 27,
   "metadata": {},
   "outputs": [
    {
     "name": "stdout",
     "output_type": "stream",
     "text": [
      "Users selected: [1]\n",
      "v_old: [0. 0. 0. 0. 0. 0. 0. 0. 0. 0.]\n",
      "v_new: [0. 0. 0. 0. 0. 0. 0. 0. 0. 0.]\n",
      "Users selected: [7]\n",
      "v_old: [0. 0. 0. 0. 0. 0. 0. 0. 0. 0.]\n",
      "v_new: [0. 0. 0. 0. 0. 0. 0. 0. 0. 0.]\n",
      "Users selected: [3]\n",
      "v_old: [0. 0. 0. 0. 0. 0. 0. 0. 0. 0.]\n",
      "v_new: [0. 0. 0. 0. 0. 0. 0. 0. 0. 0.]\n",
      "Users selected: [1]\n",
      "v_old: [0. 0. 0. 0. 0. 0. 0. 0. 0. 0.]\n",
      "v_new: [0. 0. 0. 0. 0. 0. 0. 0. 0. 0.]\n",
      "Users selected: [5]\n",
      "v_old: [0. 0. 0. 0. 0. 0. 0. 0. 0. 0.]\n",
      "v_new: [0. 0. 0. 0. 0. 0. 0. 0. 0. 0.]\n",
      "Users selected: [2]\n",
      "v_old: [0. 0. 0. 0. 0. 0. 0. 0. 0. 0.]\n",
      "v_new: [0. 0. 0. 0. 0. 0. 0. 0. 0. 0.]\n",
      "Users selected: [4]\n",
      "v_old: [0. 0. 0. 0. 0. 0. 0. 0. 0. 0.]\n",
      "v_new: [0. 0. 0. 0. 0. 0. 0. 0. 0. 0.]\n",
      "Users selected: [7]\n",
      "v_old: [0. 0. 0. 0. 0. 0. 0. 0. 0. 0.]\n",
      "v_new: [0. 0. 0. 0. 0. 0. 0. 0. 0. 0.]\n",
      "Users selected: [3]\n",
      "v_old: [0. 0. 0. 0. 0. 0. 0. 0. 0. 0.]\n",
      "v_new: [0. 0. 0. 0. 0. 0. 0. 0. 0. 0.]\n",
      "Users selected: [7]\n",
      "v_old: [0. 0. 0. 0. 0. 0. 0. 0. 0. 0.]\n",
      "v_new: [0. 0. 0. 0. 0. 0. 0. 0. 0. 0.]\n",
      "Users selected: [7]\n",
      "v_old: [0. 0. 0. 0. 0. 0. 0. 0. 0. 0.]\n",
      "v_new: [0. 0. 0. 0. 0. 0. 0. 0. 0. 0.]\n",
      "Users selected: [8]\n",
      "v_old: [0. 0. 0. 0. 0. 0. 0. 0. 0. 0.]\n",
      "v_new: [0. 0. 0. 0. 0. 0. 0. 0. 0. 0.]\n",
      "Users selected: [4]\n",
      "v_old: [0. 0. 0. 0. 0. 0. 0. 0. 0. 0.]\n",
      "v_new: [0. 0. 0. 0. 0. 0. 0. 0. 0. 0.]\n",
      "Users selected: [9]\n",
      "v_old: [0. 0. 0. 0. 0. 0. 0. 0. 0. 0.]\n",
      "v_new: [0. 0. 0. 0. 0. 0. 0. 0. 0. 0.]\n",
      "Users selected: [9]\n",
      "v_old: [0. 0. 0. 0. 0. 0. 0. 0. 0. 0.]\n",
      "v_new: [0. 0. 0. 0. 0. 0. 0. 0. 0. 0.]\n",
      "Users selected: [5]\n",
      "v_old: [0. 0. 0. 0. 0. 0. 0. 0. 0. 0.]\n",
      "v_new: [0. 0. 0. 0. 0. 0. 0. 0. 0. 0.]\n",
      "Users selected: [9]\n",
      "v_old: [0. 0. 0. 0. 0. 0. 0. 0. 0. 0.]\n",
      "v_new: [0. 0. 0. 0. 0. 0. 0. 0. 0. 0.]\n",
      "Users selected: [7]\n",
      "v_old: [0. 0. 0. 0. 0. 0. 0. 0. 0. 0.]\n",
      "v_new: [0. 0. 0. 0. 0. 0. 0. 0. 0. 0.]\n",
      "Users selected: [9]\n",
      "v_old: [0. 0. 0. 0. 0. 0. 0. 0. 0. 0.]\n",
      "v_new: [0. 0. 0. 0. 0. 0. 0. 0. 0. 0.]\n",
      "Users selected: [2]\n",
      "v_old: [0. 0. 0. 0. 0. 0. 0. 0. 0. 0.]\n",
      "v_new: [0. 0. 0. 0. 0. 0. 0. 0. 0. 0.]\n",
      "Users selected: [9]\n",
      "v_old: [0. 0. 0. 0. 0. 0. 0. 0. 0. 0.]\n",
      "v_new: [0. 0. 0. 0. 0. 0. 0. 0. 0. 0.]\n",
      "Users selected: [0]\n",
      "v_old: [0. 0. 0. 0. 0. 0. 0. 0. 0. 0.]\n",
      "v_new: [0. 0. 0. 0. 0. 0. 0. 0. 0. 0.]\n",
      "Users selected: [6]\n",
      "v_old: [0. 0. 0. 0. 0. 0. 0. 0. 0. 0.]\n",
      "v_new: [0. 0. 0. 0. 0. 0. 0. 0. 0. 0.]\n",
      "Users selected: [3]\n",
      "v_old: [0. 0. 0. 0. 0. 0. 0. 0. 0. 0.]\n",
      "v_new: [0. 0. 0. 0. 0. 0. 0. 0. 0. 0.]\n",
      "Users selected: [9]\n",
      "v_old: [0. 0. 0. 0. 0. 0. 0. 0. 0. 0.]\n",
      "v_new: [0. 0. 0. 0. 0. 0. 0. 0. 0. 0.]\n",
      "Users selected: [8]\n",
      "v_old: [0. 0. 0. 0. 0. 0. 0. 0. 0. 0.]\n",
      "v_new: [0. 0. 0. 0. 0. 0. 0. 0. 0. 0.]\n",
      "Users selected: [5]\n",
      "v_old: [0. 0. 0. 0. 0. 0. 0. 0. 0. 0.]\n",
      "v_new: [0. 0. 0. 0. 0. 0. 0. 0. 0. 0.]\n",
      "Users selected: [6]\n",
      "v_old: [0. 0. 0. 0. 0. 0. 0. 0. 0. 0.]\n",
      "v_new: [0. 0. 0. 0. 0. 0. 0. 0. 0. 0.]\n",
      "Users selected: [7]\n",
      "v_old: [0. 0. 0. 0. 0. 0. 0. 0. 0. 0.]\n",
      "v_new: [0. 0. 0. 0. 0. 0. 0. 0. 0. 0.]\n",
      "Users selected: [6]\n",
      "v_old: [0. 0. 0. 0. 0. 0. 0. 0. 0. 0.]\n",
      "v_new: [0. 0. 0. 0. 0. 0. 0. 0. 0. 0.]\n",
      "Users selected: [2]\n",
      "v_old: [0. 0. 0. 0. 0. 0. 0. 0. 0. 0.]\n",
      "v_new: [0. 0. 0. 0. 0. 0. 0. 0. 0. 0.]\n",
      "Users selected: [0]\n",
      "v_old: [0. 0. 0. 0. 0. 0. 0. 0. 0. 0.]\n",
      "v_new: [0. 0. 0. 0. 0. 0. 0. 0. 0. 0.]\n",
      "Users selected: [8]\n",
      "v_old: [0. 0. 0. 0. 0. 0. 0. 0. 0. 0.]\n",
      "v_new: [0. 0. 0. 0. 0. 0. 0. 0. 0. 0.]\n",
      "Users selected: [7]\n",
      "v_old: [0. 0. 0. 0. 0. 0. 0. 0. 0. 0.]\n",
      "v_new: [0. 0. 0. 0. 0. 0. 0. 0. 0. 0.]\n",
      "Users selected: [6]\n",
      "v_old: [0. 0. 0. 0. 0. 0. 0. 0. 0. 0.]\n",
      "v_new: [0. 0. 0. 0. 0. 0. 0. 0. 0. 0.]\n",
      "Users selected: [3]\n",
      "v_old: [0. 0. 0. 0. 0. 0. 0. 0. 0. 0.]\n",
      "v_new: [0. 0. 0. 0. 0. 0. 0. 0. 0. 0.]\n",
      "Users selected: [8]\n",
      "v_old: [0. 0. 0. 0. 0. 0. 0. 0. 0. 0.]\n",
      "v_new: [0. 0. 0. 0. 0. 0. 0. 0. 0. 0.]\n",
      "Users selected: [2]\n",
      "v_old: [0. 0. 0. 0. 0. 0. 0. 0. 0. 0.]\n",
      "v_new: [0. 0. 0. 0. 0. 0. 0. 0. 0. 0.]\n",
      "Users selected: [9]\n",
      "v_old: [0. 0. 0. 0. 0. 0. 0. 0. 0. 0.]\n",
      "v_new: [0. 0. 0. 0. 0. 0. 0. 0. 0. 0.]\n",
      "Users selected: [4]\n",
      "v_old: [0. 0. 0. 0. 0. 0. 0. 0. 0. 0.]\n",
      "v_new: [0. 0. 0. 0. 0. 0. 0. 0. 0. 0.]\n",
      "Users selected: [9]\n",
      "v_old: [0. 0. 0. 0. 0. 0. 0. 0. 0. 0.]\n",
      "v_new: [0. 0. 0. 0. 0. 0. 0. 0. 0. 0.]\n",
      "Users selected: [7]\n",
      "v_old: [0. 0. 0. 0. 0. 0. 0. 0. 0. 0.]\n",
      "v_new: [0. 0. 0. 0. 0. 0. 0. 0. 0. 0.]\n",
      "Users selected: [1]\n",
      "v_old: [0. 0. 0. 0. 0. 0. 0. 0. 0. 0.]\n",
      "v_new: [0. 0. 0. 0. 0. 0. 0. 0. 0. 0.]\n",
      "Users selected: [7]\n",
      "v_old: [0. 0. 0. 0. 0. 0. 0. 0. 0. 0.]\n",
      "v_new: [0. 0. 0. 0. 0. 0. 0. 0. 0. 0.]\n",
      "Users selected: [5]\n",
      "v_old: [0. 0. 0. 0. 0. 0. 0. 0. 0. 0.]\n",
      "v_new: [0. 0. 0. 0. 0. 0. 0. 0. 0. 0.]\n",
      "Users selected: [8]\n",
      "v_old: [0. 0. 0. 0. 0. 0. 0. 0. 0. 0.]\n",
      "v_new: [0. 0. 0. 0. 0. 0. 0. 0. 0. 0.]\n",
      "Users selected: [0]\n",
      "v_old: [0. 0. 0. 0. 0. 0. 0. 0. 0. 0.]\n",
      "v_new: [0. 0. 0. 0. 0. 0. 0. 0. 0. 0.]\n",
      "Users selected: [0]\n",
      "v_old: [0. 0. 0. 0. 0. 0. 0. 0. 0. 0.]\n",
      "v_new: [0. 0. 0. 0. 0. 0. 0. 0. 0. 0.]\n",
      "Users selected: [2]\n",
      "v_old: [0. 0. 0. 0. 0. 0. 0. 0. 0. 0.]\n",
      "v_new: [0. 0. 0. 0. 0. 0. 0. 0. 0. 0.]\n",
      "Users selected: [0]\n",
      "v_old: [0. 0. 0. 0. 0. 0. 0. 0. 0. 0.]\n",
      "v_new: [0. 0. 0. 0. 0. 0. 0. 0. 0. 0.]\n",
      "Users selected: [3]\n",
      "v_old: [0. 0. 0. 0. 0. 0. 0. 0. 0. 0.]\n",
      "v_new: [0. 0. 0. 0. 0. 0. 0. 0. 0. 0.]\n",
      "Users selected: [2]\n",
      "v_old: [0. 0. 0. 0. 0. 0. 0. 0. 0. 0.]\n",
      "v_new: [0. 0. 0. 0. 0. 0. 0. 0. 0. 0.]\n",
      "Users selected: [3]\n",
      "v_old: [0. 0. 0. 0. 0. 0. 0. 0. 0. 0.]\n",
      "v_new: [0. 0. 0. 0. 0. 0. 0. 0. 0. 0.]\n",
      "Users selected: [5]\n",
      "v_old: [0. 0. 0. 0. 0. 0. 0. 0. 0. 0.]\n",
      "v_new: [0. 0. 0. 0. 0. 0. 0. 0. 0. 0.]\n",
      "Users selected: [8]\n",
      "v_old: [0. 0. 0. 0. 0. 0. 0. 0. 0. 0.]\n",
      "v_new: [0. 0. 0. 0. 0. 0. 0. 0. 0. 0.]\n",
      "Users selected: [7]\n",
      "v_old: [0. 0. 0. 0. 0. 0. 0. 0. 0. 0.]\n",
      "v_new: [0. 0. 0. 0. 0. 0. 0. 0. 0. 0.]\n",
      "Users selected: [7]\n",
      "v_old: [0. 0. 0. 0. 0. 0. 0. 0. 0. 0.]\n",
      "v_new: [0. 0. 0. 0. 0. 0. 0. 0. 0. 0.]\n",
      "Users selected: [6]\n",
      "v_old: [0. 0. 0. 0. 0. 0. 0. 0. 0. 0.]\n",
      "v_new: [0. 0. 0. 0. 0. 0. 0. 0. 0. 0.]\n",
      "Users selected: [3]\n",
      "v_old: [0. 0. 0. 0. 0. 0. 0. 0. 0. 0.]\n",
      "v_new: [0. 0. 0. 0. 0. 0. 0. 0. 0. 0.]\n",
      "Users selected: [1]\n",
      "v_old: [0. 0. 0. 0. 0. 0. 0. 0. 0. 0.]\n",
      "v_new: [0. 0. 0. 0. 0. 0. 0. 0. 0. 0.]\n",
      "Users selected: [1]\n",
      "v_old: [0. 0. 0. 0. 0. 0. 0. 0. 0. 0.]\n",
      "v_new: [0. 0. 0. 0. 0. 0. 0. 0. 0. 0.]\n",
      "Users selected: [2]\n",
      "v_old: [0. 0. 0. 0. 0. 0. 0. 0. 0. 0.]\n",
      "v_new: [0. 0. 0. 0. 0. 0. 0. 0. 0. 0.]\n",
      "Users selected: [5]\n",
      "v_old: [0. 0. 0. 0. 0. 0. 0. 0. 0. 0.]\n",
      "v_new: [0. 0. 0. 0. 0. 0. 0. 0. 0. 0.]\n",
      "Users selected: [9]\n",
      "v_old: [0. 0. 0. 0. 0. 0. 0. 0. 0. 0.]\n",
      "v_new: [0. 0. 0. 0. 0. 0. 0. 0. 0. 0.]\n",
      "Users selected: [9]\n",
      "v_old: [0. 0. 0. 0. 0. 0. 0. 0. 0. 0.]\n",
      "v_new: [0. 0. 0. 0. 0. 0. 0. 0. 0. 0.]\n",
      "Users selected: [8]\n",
      "v_old: [0. 0. 0. 0. 0. 0. 0. 0. 0. 0.]\n",
      "v_new: [0. 0. 0. 0. 0. 0. 0. 0. 0. 0.]\n",
      "Users selected: [9]\n",
      "v_old: [0. 0. 0. 0. 0. 0. 0. 0. 0. 0.]\n",
      "v_new: [0. 0. 0. 0. 0. 0. 0. 0. 0. 0.]\n",
      "Users selected: [2]\n",
      "v_old: [0. 0. 0. 0. 0. 0. 0. 0. 0. 0.]\n",
      "v_new: [0. 0. 0. 0. 0. 0. 0. 0. 0. 0.]\n",
      "Users selected: [5]\n",
      "v_old: [0. 0. 0. 0. 0. 0. 0. 0. 0. 0.]\n",
      "v_new: [0. 0. 0. 0. 0. 0. 0. 0. 0. 0.]\n",
      "Users selected: [6]\n",
      "v_old: [0. 0. 0. 0. 0. 0. 0. 0. 0. 0.]\n",
      "v_new: [0. 0. 0. 0. 0. 0. 0. 0. 0. 0.]\n",
      "Users selected: [7]\n",
      "v_old: [0. 0. 0. 0. 0. 0. 0. 0. 0. 0.]\n",
      "v_new: [0. 0. 0. 0. 0. 0. 0. 0. 0. 0.]\n",
      "Users selected: [4]\n",
      "v_old: [0. 0. 0. 0. 0. 0. 0. 0. 0. 0.]\n",
      "v_new: [0. 0. 0. 0. 0. 0. 0. 0. 0. 0.]\n",
      "Users selected: [1]\n",
      "v_old: [0. 0. 0. 0. 0. 0. 0. 0. 0. 0.]\n",
      "v_new: [0. 0. 0. 0. 0. 0. 0. 0. 0. 0.]\n",
      "Users selected: [5]\n",
      "v_old: [0. 0. 0. 0. 0. 0. 0. 0. 0. 0.]\n",
      "v_new: [0. 0. 0. 0. 0. 0. 0. 0. 0. 0.]\n",
      "Users selected: [6]\n",
      "v_old: [0. 0. 0. 0. 0. 0. 0. 0. 0. 0.]\n",
      "v_new: [0. 0. 0. 0. 0. 0. 0. 0. 0. 0.]\n",
      "Users selected: [5]\n",
      "v_old: [0. 0. 0. 0. 0. 0. 0. 0. 0. 0.]\n",
      "v_new: [0. 0. 0. 0. 0. 0. 0. 0. 0. 0.]\n",
      "Users selected: [3]\n",
      "v_old: [0. 0. 0. 0. 0. 0. 0. 0. 0. 0.]\n",
      "v_new: [0. 0. 0. 0. 0. 0. 0. 0. 0. 0.]\n",
      "Users selected: [7]\n",
      "v_old: [0. 0. 0. 0. 0. 0. 0. 0. 0. 0.]\n",
      "v_new: [0. 0. 0. 0. 0. 0. 0. 0. 0. 0.]\n",
      "Users selected: [2]\n",
      "v_old: [0. 0. 0. 0. 0. 0. 0. 0. 0. 0.]\n",
      "v_new: [0. 0. 0. 0. 0. 0. 0. 0. 0. 0.]\n",
      "Users selected: [8]\n",
      "v_old: [0. 0. 0. 0. 0. 0. 0. 0. 0. 0.]\n",
      "v_new: [0. 0. 0. 0. 0. 0. 0. 0. 0. 0.]\n",
      "Users selected: [3]\n",
      "v_old: [0. 0. 0. 0. 0. 0. 0. 0. 0. 0.]\n",
      "v_new: [0. 0. 0. 0. 0. 0. 0. 0. 0. 0.]\n",
      "Users selected: [4]\n",
      "v_old: [0. 0. 0. 0. 0. 0. 0. 0. 0. 0.]\n",
      "v_new: [0. 0. 0. 0. 0. 0. 0. 0. 0. 0.]\n",
      "Users selected: [1]\n",
      "v_old: [0. 0. 0. 0. 0. 0. 0. 0. 0. 0.]\n",
      "v_new: [0. 0. 0. 0. 0. 0. 0. 0. 0. 0.]\n",
      "Users selected: [2]\n",
      "v_old: [0. 0. 0. 0. 0. 0. 0. 0. 0. 0.]\n",
      "v_new: [0. 0. 0. 0. 0. 0. 0. 0. 0. 0.]\n",
      "Users selected: [3]\n",
      "v_old: [0. 0. 0. 0. 0. 0. 0. 0. 0. 0.]\n",
      "v_new: [0. 0. 0. 0. 0. 0. 0. 0. 0. 0.]\n",
      "Users selected: [4]\n",
      "v_old: [0. 0. 0. 0. 0. 0. 0. 0. 0. 0.]\n",
      "v_new: [0. 0. 0. 0. 0. 0. 0. 0. 0. 0.]\n",
      "Users selected: [2]\n",
      "v_old: [0. 0. 0. 0. 0. 0. 0. 0. 0. 0.]\n",
      "v_new: [0. 0. 0. 0. 0. 0. 0. 0. 0. 0.]\n",
      "Users selected: [2]\n",
      "v_old: [0. 0. 0. 0. 0. 0. 0. 0. 0. 0.]\n",
      "v_new: [0. 0. 0. 0. 0. 0. 0. 0. 0. 0.]\n",
      "Users selected: [1]\n",
      "v_old: [0. 0. 0. 0. 0. 0. 0. 0. 0. 0.]\n",
      "v_new: [0. 0. 0. 0. 0. 0. 0. 0. 0. 0.]\n",
      "Users selected: [8]\n",
      "v_old: [0. 0. 0. 0. 0. 0. 0. 0. 0. 0.]\n",
      "v_new: [0. 0. 0. 0. 0. 0. 0. 0. 0. 0.]\n",
      "Users selected: [5]\n",
      "v_old: [0. 0. 0. 0. 0. 0. 0. 0. 0. 0.]\n",
      "v_new: [0. 0. 0. 0. 0. 0. 0. 0. 0. 0.]\n",
      "Users selected: [5]\n",
      "v_old: [0. 0. 0. 0. 0. 0. 0. 0. 0. 0.]\n",
      "v_new: [0. 0. 0. 0. 0. 0. 0. 0. 0. 0.]\n",
      "Users selected: [5]\n",
      "v_old: [0. 0. 0. 0. 0. 0. 0. 0. 0. 0.]\n",
      "v_new: [0. 0. 0. 0. 0. 0. 0. 0. 0. 0.]\n",
      "Users selected: [5]\n",
      "v_old: [0. 0. 0. 0. 0. 0. 0. 0. 0. 0.]\n",
      "v_new: [0. 0. 0. 0. 0. 0. 0. 0. 0. 0.]\n",
      "Users selected: [2]\n",
      "v_old: [0. 0. 0. 0. 0. 0. 0. 0. 0. 0.]\n",
      "v_new: [0. 0. 0. 0. 0. 0. 0. 0. 0. 0.]\n",
      "Users selected: [9]\n",
      "v_old: [0. 0. 0. 0. 0. 0. 0. 0. 0. 0.]\n",
      "v_new: [0. 0. 0. 0. 0. 0. 0. 0. 0. 0.]\n",
      "Users selected: [7]\n",
      "v_old: [0. 0. 0. 0. 0. 0. 0. 0. 0. 0.]\n",
      "v_new: [0. 0. 0. 0. 0. 0. 0. 0. 0. 0.]\n",
      "Users selected: [8]\n",
      "v_old: [0. 0. 0. 0. 0. 0. 0. 0. 0. 0.]\n",
      "v_new: [0. 0. 0. 0. 0. 0. 0. 0. 0. 0.]\n",
      "Users selected: [2]\n",
      "v_old: [0. 0. 0. 0. 0. 0. 0. 0. 0. 0.]\n",
      "v_new: [0. 0. 0. 0. 0. 0. 0. 0. 0. 0.]\n",
      "Users selected: [0]\n",
      "v_old: [0. 0. 0. 0. 0. 0. 0. 0. 0. 0.]\n",
      "v_new: [0. 0. 0. 0. 0. 0. 0. 0. 0. 0.]\n"
     ]
    }
   ],
   "source": [
    "num_users = 10\n",
    "version_matrix = np.zeros((num_users,num_users))\n",
    "for r in range(100):\n",
    "    idx_user = np.random.choice(range(num_users), 1, replace=False)\n",
    "    print(\"Users selected:\", idx_user)\n",
    "    v_old = np.reshape(version_matrix[idx_user,:],-1)\n",
    "    print(\"v_old:\", v_old)\n",
    "    v_new = np.zeros((num_users))\n",
    "    for i in range(num_users):\n",
    "        v_new[i] = version_matrix[i,i]\n",
    "    print(\"v_new:\",v_new)"
   ]
  },
  {
   "cell_type": "code",
   "execution_count": null,
   "metadata": {},
   "outputs": [],
   "source": []
  }
 ],
 "metadata": {
  "kernelspec": {
   "display_name": "Python 3",
   "language": "python",
   "name": "python3"
  },
  "language_info": {
   "codemirror_mode": {
    "name": "ipython",
    "version": 3
   },
   "file_extension": ".py",
   "mimetype": "text/x-python",
   "name": "python",
   "nbconvert_exporter": "python",
   "pygments_lexer": "ipython3",
   "version": "3.8.3"
  }
 },
 "nbformat": 4,
 "nbformat_minor": 4
}
